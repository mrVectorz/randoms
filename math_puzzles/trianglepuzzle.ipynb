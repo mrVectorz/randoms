{
 "cells": [
  {
   "cell_type": "code",
   "execution_count": 39,
   "metadata": {
    "ExecuteTime": {
     "end_time": "2020-06-26T19:26:47.172451Z",
     "start_time": "2020-06-26T19:26:47.166167Z"
    }
   },
   "outputs": [],
   "source": [
    "# http://www.think-maths.co.uk/trianglepuzzle\n",
    "\n",
    "def expand_triangle(triangle):\n",
    "    a = triangle[0]\n",
    "    b = triangle[1]\n",
    "    c = triangle[2]\n",
    "    \n",
    "    x = a - b\n",
    "    y = a - c\n",
    "    z = b - c\n",
    "    return [x if x>=1 else x*-1,\n",
    "            y if y>=1 else y*-1,\n",
    "            z if z>=1 else z*-1]\n",
    "\n",
    "def fourteenTest(triangle):\n",
    "    return True if sum(triangle) == 14 else False\n",
    "def Test(triangle, num):\n",
    "    return True if sum(triangle) == num else False"
   ]
  },
  {
   "cell_type": "code",
   "execution_count": 33,
   "metadata": {
    "ExecuteTime": {
     "end_time": "2020-06-26T18:55:56.167487Z",
     "start_time": "2020-06-26T18:55:56.162926Z"
    }
   },
   "outputs": [
    {
     "name": "stdout",
     "output_type": "stream",
     "text": [
      "[7, 2, 5]\n",
      "14\n"
     ]
    }
   ],
   "source": [
    "test = expand_triangle([5, 12, 7])\n",
    "print(test)\n",
    "print(sum(test))\n",
    "#print(type(test[0]))\n"
   ]
  },
  {
   "cell_type": "code",
   "execution_count": 42,
   "metadata": {
    "ExecuteTime": {
     "end_time": "2020-06-26T19:29:10.554335Z",
     "start_time": "2020-06-26T19:29:04.352286Z"
    }
   },
   "outputs": [
    {
     "name": "stdout",
     "output_type": "stream",
     "text": [
      "count: 1000 - triangle: [0, 7, 14] - sum: 21 - threeFactor: 7.0\n",
      "count: 1000 - triangle: [0, 14, 7] - sum: 21 - threeFactor: 7.0\n",
      "count: 1000 - triangle: [1, 8, 15] - sum: 24 - threeFactor: 8.0\n",
      "count: 1000 - triangle: [1, 15, 8] - sum: 24 - threeFactor: 8.0\n",
      "count: 1000 - triangle: [2, 9, 16] - sum: 27 - threeFactor: 9.0\n",
      "count: 1000 - triangle: [2, 16, 9] - sum: 27 - threeFactor: 9.0\n",
      "count: 1000 - triangle: [3, 10, 17] - sum: 30 - threeFactor: 10.0\n",
      "count: 1000 - triangle: [3, 17, 10] - sum: 30 - threeFactor: 10.0\n"
     ]
    },
    {
     "ename": "KeyboardInterrupt",
     "evalue": "",
     "output_type": "error",
     "traceback": [
      "\u001b[0;31m---------------------------------------------------------------------------\u001b[0m",
      "\u001b[0;31mKeyboardInterrupt\u001b[0m                         Traceback (most recent call last)",
      "\u001b[0;32m<ipython-input-42-0efa6622caea>\u001b[0m in \u001b[0;36m<module>\u001b[0;34m\u001b[0m\n\u001b[1;32m     10\u001b[0m     \u001b[0;32mfor\u001b[0m \u001b[0mb\u001b[0m \u001b[0;32min\u001b[0m \u001b[0mrange\u001b[0m\u001b[0;34m(\u001b[0m\u001b[0mstart\u001b[0m\u001b[0;34m,\u001b[0m \u001b[0mend\u001b[0m\u001b[0;34m)\u001b[0m\u001b[0;34m:\u001b[0m\u001b[0;34m\u001b[0m\u001b[0;34m\u001b[0m\u001b[0m\n\u001b[1;32m     11\u001b[0m         \u001b[0;32mfor\u001b[0m \u001b[0mc\u001b[0m \u001b[0;32min\u001b[0m \u001b[0mrange\u001b[0m\u001b[0;34m(\u001b[0m\u001b[0mstart\u001b[0m\u001b[0;34m,\u001b[0m \u001b[0mend\u001b[0m\u001b[0;34m)\u001b[0m\u001b[0;34m:\u001b[0m\u001b[0;34m\u001b[0m\u001b[0;34m\u001b[0m\u001b[0m\n\u001b[0;32m---> 12\u001b[0;31m             \u001b[0mtriangle\u001b[0m \u001b[0;34m=\u001b[0m \u001b[0;34m[\u001b[0m\u001b[0ma\u001b[0m\u001b[0;34m,\u001b[0m \u001b[0mb\u001b[0m\u001b[0;34m,\u001b[0m \u001b[0mc\u001b[0m\u001b[0;34m]\u001b[0m\u001b[0;34m\u001b[0m\u001b[0;34m\u001b[0m\u001b[0m\n\u001b[0m\u001b[1;32m     13\u001b[0m             \u001b[0mexpanded_tri\u001b[0m \u001b[0;34m=\u001b[0m \u001b[0mexpand_triangle\u001b[0m\u001b[0;34m(\u001b[0m\u001b[0mtriangle\u001b[0m\u001b[0;34m)\u001b[0m\u001b[0;34m\u001b[0m\u001b[0;34m\u001b[0m\u001b[0m\n\u001b[1;32m     14\u001b[0m             \u001b[0;32mif\u001b[0m \u001b[0;32mnot\u001b[0m \u001b[0mTest\u001b[0m\u001b[0;34m(\u001b[0m\u001b[0mexpanded_tri\u001b[0m\u001b[0;34m,\u001b[0m \u001b[0mnum\u001b[0m\u001b[0;34m)\u001b[0m\u001b[0;34m:\u001b[0m\u001b[0;34m\u001b[0m\u001b[0;34m\u001b[0m\u001b[0m\n",
      "\u001b[0;31mKeyboardInterrupt\u001b[0m: "
     ]
    }
   ],
   "source": [
    "# Testing parameters\n",
    "start = 0\n",
    "end = 1000\n",
    "\n",
    "# Set sum of resulting triangles you wish to achieve\n",
    "num = 14\n",
    "#num = 12\n",
    "\n",
    "for a in range(start, end):\n",
    "    for b in range(start, end):\n",
    "        for c in range(start, end):\n",
    "            triangle = [a, b, c]\n",
    "            expanded_tri = expand_triangle(triangle)\n",
    "            if not Test(expanded_tri, num):\n",
    "            #if not fourteenTest(expanded_tri):\n",
    "                reexpanded_tri = expand_triangle(expanded_tri)\n",
    "                if Test(reexpanded_tri, num):\n",
    "                #if fourteenTest(reexpanded_tri):\n",
    "                    count = 0\n",
    "                    test = 0\n",
    "                    while count < 1000:\n",
    "                        reexpanded_tri = expand_triangle(reexpanded_tri)\n",
    "                        #print(reexpanded_tri)\n",
    "                        if sum(reexpanded_tri) == 0:\n",
    "                            break\n",
    "                        if Test(reexpanded_tri, num):\n",
    "                        #if fourteenTest(reexpanded_tri):\n",
    "                            #print(sum(reexpanded_tri))\n",
    "                            test += 1\n",
    "                        count += 1\n",
    "                    if test > 1:\n",
    "                        triSum = sum(triangle)\n",
    "                        print(\"count: {} - triangle: {} - sum: {} - threeFactor: {}\".format(test,\n",
    "                                                                                            triangle,\n",
    "                                                                                            triSum,\n",
    "                                                                                            triSum/3))"
   ]
  },
  {
   "cell_type": "code",
   "execution_count": null,
   "metadata": {},
   "outputs": [],
   "source": []
  }
 ],
 "metadata": {
  "kernelspec": {
   "display_name": "Python 3",
   "language": "python",
   "name": "python3"
  },
  "language_info": {
   "codemirror_mode": {
    "name": "ipython",
    "version": 3
   },
   "file_extension": ".py",
   "mimetype": "text/x-python",
   "name": "python",
   "nbconvert_exporter": "python",
   "pygments_lexer": "ipython3",
   "version": "3.7.7"
  }
 },
 "nbformat": 4,
 "nbformat_minor": 2
}
