{
 "cells": [
  {
   "cell_type": "code",
   "execution_count": 3,
   "metadata": {
    "ExecuteTime": {
     "end_time": "2020-08-05T21:45:33.699447Z",
     "start_time": "2020-08-05T21:45:30.907917Z"
    }
   },
   "outputs": [
    {
     "name": "stdout",
     "output_type": "stream",
     "text": [
      "people count: 7560 with 64 arrangments\n"
     ]
    }
   ],
   "source": [
    "#http://think-maths.co.uk/marchingband\n",
    "\n",
    "people_count = 0\n",
    "while True:\n",
    "    people_count += 1\n",
    "    #print(\"people count: %s\" % people_count)\n",
    "    arrangments = 0\n",
    "    for i in range(1,people_count+1):\n",
    "        if people_count%i == 0:\n",
    "            arrangments += 1\n",
    "    #print(arrangments)\n",
    "    if arrangments == 64:\n",
    "        print(\"people count: %s with %s arrangments\" % (people_count, arrangments))\n",
    "        break"
   ]
  },
  {
   "cell_type": "code",
   "execution_count": null,
   "metadata": {},
   "outputs": [],
   "source": []
  }
 ],
 "metadata": {
  "kernelspec": {
   "display_name": "Python 3",
   "language": "python",
   "name": "python3"
  },
  "language_info": {
   "codemirror_mode": {
    "name": "ipython",
    "version": 3
   },
   "file_extension": ".py",
   "mimetype": "text/x-python",
   "name": "python",
   "nbconvert_exporter": "python",
   "pygments_lexer": "ipython3",
   "version": "3.7.7"
  }
 },
 "nbformat": 4,
 "nbformat_minor": 2
}
